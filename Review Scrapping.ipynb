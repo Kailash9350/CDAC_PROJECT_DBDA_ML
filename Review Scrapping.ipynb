{
 "cells": [
  {
   "cell_type": "markdown",
   "id": "17355127-cbf3-4482-9611-fffc89cfc01e",
   "metadata": {},
   "source": [
    "# Review Scrapping"
   ]
  },
  {
   "cell_type": "markdown",
   "id": "5716a133-7888-4fdd-9fdc-88669d5a57cf",
   "metadata": {},
   "source": [
    "### import required packages"
   ]
  },
  {
   "cell_type": "code",
   "execution_count": 44,
   "id": "41a87678-f5de-4070-bdd2-f9a7ec78d5bf",
   "metadata": {},
   "outputs": [],
   "source": [
    "import requests\n",
    "import pandas as pd\n",
    "from tqdm import tqdm\n",
    "from langdetect import detect\n",
    "import time\n",
    "import os\n",
    "import csv\n",
    "from transformers import pipeline\n",
    "from collections import Counter"
   ]
  },
  {
   "cell_type": "markdown",
   "id": "ba9eab2d-a60c-4c2b-b2da-fed6d28946f5",
   "metadata": {},
   "source": [
    "### Required configuration"
   ]
  },
  {
   "cell_type": "code",
   "execution_count": 2,
   "id": "4d8b551e-627f-418c-8a01-c7bec2d5e396",
   "metadata": {},
   "outputs": [],
   "source": [
    "API_KEY='35250d55ae36d4d2136a5c928021acc1'    \n",
    "DISCOVER_PAGES=300         \n",
    "POPULAR_PAGES=100          \n",
    "MAX_REVIEW_PAGES=20        \n",
    "MAX_REVIEWS=60000          \n",
    "SAVE_EVERY=2000"
   ]
  },
  {
   "cell_type": "markdown",
   "id": "2052e20c-23e3-404f-819a-b1ab4aceb1da",
   "metadata": {},
   "source": [
    "#### Movie Fatching"
   ]
  },
  {
   "cell_type": "code",
   "execution_count": 3,
   "id": "984facbe-d522-4692-9139-d5b949a1fb11",
   "metadata": {},
   "outputs": [],
   "source": [
    "def get_discover_movies(api_key, total_pages):\n",
    "    movies=set()\n",
    "    for page in tqdm(range(1, total_pages + 1), desc=\"Fetching discover movies\"):\n",
    "        url='https://api.themoviedb.org/3/discover/movie'\n",
    "        params={'api_key': api_key,\n",
    "            'language': 'en-US',\n",
    "            'sort_by': 'vote_count.desc',\n",
    "            'vote_count.gte': 50,\n",
    "            'page': page}\n",
    "        response=requests.get(url, params=params)\n",
    "        if response.status_code != 200:\n",
    "            break\n",
    "        for movie in response.json().get('results', []):\n",
    "            movies.add((movie['id'], movie['title']))\n",
    "        time.sleep(0.1)\n",
    "    return movies"
   ]
  },
  {
   "cell_type": "markdown",
   "id": "847d40fc-be06-4707-b7f5-731aef97cade",
   "metadata": {},
   "source": [
    "##### Popular movie fatching"
   ]
  },
  {
   "cell_type": "code",
   "execution_count": 4,
   "id": "c3d65f2f-853c-4867-93ec-ba2584c95974",
   "metadata": {},
   "outputs": [],
   "source": [
    "def get_popular_movies(api_key, total_pages):\n",
    "    movies=set()\n",
    "    for page in tqdm(range(1, total_pages + 1), desc=\"Fetching popular movies\"):\n",
    "        url='https://api.themoviedb.org/3/movie/popular'\n",
    "        params={'api_key': api_key,\n",
    "            'language': 'en-US',\n",
    "            'page': page}\n",
    "        response=requests.get(url, params=params)\n",
    "        if response.status_code != 200:\n",
    "            break\n",
    "        for movie in response.json().get('results', []):\n",
    "            movies.add((movie['id'], movie['title']))\n",
    "        time.sleep(0.1)\n",
    "    return movies"
   ]
  },
  {
   "cell_type": "markdown",
   "id": "0114f097-1eac-4b22-8fb0-1cfc8e8a9c4b",
   "metadata": {},
   "source": [
    "### Movie data Fatching"
   ]
  },
  {
   "cell_type": "code",
   "execution_count": 5,
   "id": "3ead450d-b03d-4265-95af-445ed470aeb0",
   "metadata": {},
   "outputs": [],
   "source": [
    "def get_reviews(movie_id, movie_title, api_key, max_pages):\n",
    "    reviews=[]\n",
    "    for page in range(1, max_pages + 1):\n",
    "        url=f'https://api.themoviedb.org/3/movie/{movie_id}/reviews'\n",
    "        params={'api_key': api_key,\n",
    "            'language': 'en-US',\n",
    "            'page': page}\n",
    "        response=requests.get(url, params=params)\n",
    "        if response.status_code != 200:\n",
    "            break\n",
    "        results=response.json().get('results', [])\n",
    "        if not results:\n",
    "            break\n",
    "        for r in results:\n",
    "            try:\n",
    "                text=r.get('content', '')\n",
    "                if detect(text) != 'en':\n",
    "                    continue\n",
    "                    reviews.append({\n",
    "                    'movie_id': movie_id,\n",
    "                    'movie_title': movie_title,\n",
    "                    'author': r.get('author', ''),\n",
    "                    'review': text,\n",
    "                    'rating': r.get('author_details', {}).get('rating', None)\n",
    "                })\n",
    "            except:\n",
    "                continue\n",
    "        time.sleep(0.1)\n",
    "    return reviews"
   ]
  },
  {
   "cell_type": "markdown",
   "id": "7488a74b-858d-4ed0-a326-e3d66ed5cc70",
   "metadata": {},
   "source": [
    "### Scrapping"
   ]
  },
  {
   "cell_type": "code",
   "execution_count": 6,
   "id": "24ead583-c250-4649-8bc2-daf04767fe86",
   "metadata": {},
   "outputs": [],
   "source": [
    "def scrape_reviews(api_key, max_reviews, save_every):\n",
    "    discover_movies=get_discover_movies(api_key, DISCOVER_PAGES)\n",
    "    popular_movies=get_popular_movies(api_key, POPULAR_PAGES)\n",
    "    all_movies=list(discover_movies.union(popular_movies))\n",
    "    all_reviews=[]\n",
    "    for movie_id, movie_title in tqdm(all_movies, desc=\"Scraping reviews\"):\n",
    "        reviews=get_reviews(movie_id, movie_title, api_key, MAX_REVIEW_PAGES)\n",
    "        all_reviews.extend(reviews)\n",
    "        if len(all_reviews) >= save_every and len(all_reviews) % save_every < len(reviews):\n",
    "            df=pd.DataFrame(all_reviews)\n",
    "            df.drop_duplicates(subset='review', inplace=True)\n",
    "            filename=f'tmdb_reviews_partial_{len(df)}.csv'\n",
    "            df.to_csv(filename, index=False)\n",
    "            print(f\"\\n Saved: {filename}\")\n",
    "        if len(all_reviews) >= max_reviews:\n",
    "            break\n",
    "    df=pd.DataFrame(all_reviews)\n",
    "    df.drop_duplicates(subset='review', inplace=True)\n",
    "    df.to_csv('D:/DBDA/Machine_Learning_Project_dataset/tmdb_reviews_dataset2.csv', index=False)"
   ]
  },
  {
   "cell_type": "markdown",
   "id": "d0421bc3-9488-404c-8d56-2954b67ce31a",
   "metadata": {},
   "source": [
    "### Run the main file to save the data"
   ]
  },
  {
   "cell_type": "code",
   "execution_count": null,
   "id": "02ccb65c-72e4-4318-8c1f-dfa1cd6cc3cb",
   "metadata": {},
   "outputs": [],
   "source": [
    "if __name__=='__main__':\n",
    "    scrape_reviews(API_KEY, MAX_REVIEWS, SAVE_EVERY)"
   ]
  },
  {
   "cell_type": "code",
   "execution_count": null,
   "id": "2862e1d4-58c1-41b7-ad1e-b388008cb936",
   "metadata": {},
   "outputs": [],
   "source": []
  },
  {
   "cell_type": "markdown",
   "id": "074b598a-066d-44df-8d9b-e4ca4ff53728",
   "metadata": {},
   "source": [
    "## Again scrap reviews for more data "
   ]
  },
  {
   "cell_type": "code",
   "execution_count": null,
   "id": "798f0c87-9983-4a44-92ba-71784fcd30f9",
   "metadata": {},
   "outputs": [],
   "source": []
  },
  {
   "cell_type": "markdown",
   "id": "2bc0ad7d-2283-40ad-ab79-244959c44707",
   "metadata": {},
   "source": [
    "### Required configuration"
   ]
  },
  {
   "cell_type": "code",
   "execution_count": 9,
   "id": "1f39ce8e-33d3-408e-9a14-d0fac30f35c5",
   "metadata": {},
   "outputs": [],
   "source": [
    "API_KEY=\"35250d55ae36d4d2136a5c928021acc1\"\n",
    "MOVIE_PAGES=500  \n",
    "REVIEW_PAGES_PER_MOVIE=20\n",
    "CSV_FILE_NAME=\"D:/DBDA/Machine_Learning_Project_dataset/tmdb_clean_english_reviews.csv\""
   ]
  },
  {
   "cell_type": "markdown",
   "id": "eed5aa56-8714-4949-afd9-3a2cb885bdef",
   "metadata": {},
   "source": [
    "### Open the csv file with headers"
   ]
  },
  {
   "cell_type": "code",
   "execution_count": 10,
   "id": "fcb22256-bce2-4ac2-a921-1d5157e99ce7",
   "metadata": {},
   "outputs": [],
   "source": [
    " with open(CSV_FILE_NAME, 'w', newline='', encoding='utf-8') as f:\n",
    "        writer=csv.DictWriter(f, fieldnames=[\"movie_id\", \"movie_title\", \"author\", \"review\", \"rating\"])\n",
    "        writer.writeheader()"
   ]
  },
  {
   "cell_type": "markdown",
   "id": "c00a8613-27d1-40ea-8e82-292efe286e91",
   "metadata": {},
   "source": [
    "### movie fatching"
   ]
  },
  {
   "cell_type": "code",
   "execution_count": 11,
   "id": "08a2d0ba-6e50-4202-b1ec-63e46f1e5be4",
   "metadata": {},
   "outputs": [],
   "source": [
    "def get_movies(api_key, total_pages):\n",
    "    movies=[]\n",
    "    seen_ids=set()\n",
    "    for page in tqdm(range(1, total_pages + 1), desc=\"Fetching movies\"):\n",
    "        url=\"https://api.themoviedb.org/3/discover/movie\"\n",
    "        params={\"api_key\": api_key,\n",
    "            \"language\": \"en-US\",\n",
    "            \"sort_by\": \"popularity.desc\",\n",
    "            \"vote_count.gte\": 10,\n",
    "            \"page\": page}\n",
    "        response=requests.get(url, params=params)\n",
    "        if response.status_code != 200:\n",
    "            break\n",
    "        for movie in response.json().get(\"results\", []):\n",
    "            if movie[\"id\"] not in seen_ids:\n",
    "                movies.append((movie[\"id\"], movie[\"title\"]))\n",
    "                seen_ids.add(movie[\"id\"])\n",
    "        time.sleep(0.1)\n",
    "    return movies"
   ]
  },
  {
   "cell_type": "markdown",
   "id": "de62d1cb-c836-4eb9-9782-786f9003e469",
   "metadata": {},
   "source": [
    "### Fatch movie data"
   ]
  },
  {
   "cell_type": "code",
   "execution_count": 12,
   "id": "c84f35de-3dd8-4492-894e-13efbb7276cc",
   "metadata": {},
   "outputs": [],
   "source": [
    "def get_reviews(movie_id, movie_title, api_key, max_pages=20):\n",
    "    reviews=[]\n",
    "    for page in range(1, max_pages + 1):\n",
    "        url = f\"https://api.themoviedb.org/3/movie/{movie_id}/reviews\"\n",
    "        params = {\"api_key\": api_key,\n",
    "            \"language\": \"en-US\",\n",
    "            \"page\": page}\n",
    "        response=requests.get(url, params=params)\n",
    "        if response.status_code != 200:\n",
    "            break\n",
    "        results=response.json().get(\"results\", [])\n",
    "        if not results:\n",
    "            break\n",
    "        for review in results:\n",
    "            content=review.get(\"content\", \"\")\n",
    "            try:\n",
    "                if detect(content)==\"en\":\n",
    "                    reviews.append({\"movie_id\": movie_id,\n",
    "                        \"movie_title\": movie_title,\n",
    "                        \"author\": review.get(\"author\", \"\"),\n",
    "                        \"review\": content,\n",
    "                        \"rating\": review.get(\"author_details\", {}).get(\"rating\")})\n",
    "            except:\n",
    "                continue\n",
    "        time.sleep(0.1)\n",
    "    return reviews"
   ]
  },
  {
   "cell_type": "markdown",
   "id": "f816ad36-2a24-4a9f-a940-576f310536d7",
   "metadata": {},
   "source": [
    "### Run main file to download data"
   ]
  },
  {
   "cell_type": "code",
   "execution_count": null,
   "id": "137a8004-d4c5-444c-a294-a94d0db04246",
   "metadata": {},
   "outputs": [],
   "source": [
    "movies=get_movies(API_KEY, MOVIE_PAGES)\n",
    "for movie_id, movie_title in tqdm(movies, desc=\"Scraping reviews\"):\n",
    "    reviews=get_reviews(movie_id, movie_title, API_KEY, REVIEW_PAGES_PER_MOVIE)\n",
    "    if reviews:\n",
    "        with open(CSV_FILE_NAME, mode='a', newline='', encoding='utf-8') as file:\n",
    "            writer=csv.DictWriter(file, fieldnames=[\"movie_id\", \"movie_title\", \"author\", \"review\", \"rating\"])\n",
    "            for review in reviews:\n",
    "                writer.writerow(review)\n",
    "print(\"\\nReviews saved to:\", CSV_FILE_NAME)"
   ]
  },
  {
   "cell_type": "code",
   "execution_count": null,
   "id": "86f114ce-f3b9-4154-b675-c5ce05c0ea50",
   "metadata": {},
   "outputs": [],
   "source": []
  },
  {
   "cell_type": "markdown",
   "id": "829c0378-f2da-4fa7-b71d-f2a7ca5f0155",
   "metadata": {},
   "source": [
    "## load the dataset"
   ]
  },
  {
   "cell_type": "code",
   "execution_count": 52,
   "id": "a87c015e-8a30-45bb-a4c6-01b288a9e260",
   "metadata": {},
   "outputs": [],
   "source": [
    "df1=pd.read_csv('D:/DBDA/Machine_Learning_Project_dataset/tmdb_reviews_dataset2.csv') \n",
    "df2=pd.read_csv('D:/DBDA/Machine_Learning_Project_dataset/tmdb_clean_english_reviews.csv') \n",
    "df=pd.read_csv('D:/DBDA/Machine_Learning_Project_dataset/IMDB Dataset.csv')"
   ]
  },
  {
   "cell_type": "code",
   "execution_count": 22,
   "id": "26797494-ca78-40b2-b6ea-7b6cf4b9dbfa",
   "metadata": {},
   "outputs": [
    {
     "data": {
      "text/html": [
       "<div>\n",
       "<style scoped>\n",
       "    .dataframe tbody tr th:only-of-type {\n",
       "        vertical-align: middle;\n",
       "    }\n",
       "\n",
       "    .dataframe tbody tr th {\n",
       "        vertical-align: top;\n",
       "    }\n",
       "\n",
       "    .dataframe thead th {\n",
       "        text-align: right;\n",
       "    }\n",
       "</style>\n",
       "<table border=\"1\" class=\"dataframe\">\n",
       "  <thead>\n",
       "    <tr style=\"text-align: right;\">\n",
       "      <th></th>\n",
       "      <th>movie_id</th>\n",
       "      <th>author</th>\n",
       "      <th>review</th>\n",
       "      <th>rating</th>\n",
       "      <th>movie_title</th>\n",
       "    </tr>\n",
       "  </thead>\n",
       "  <tbody>\n",
       "    <tr>\n",
       "      <th>0</th>\n",
       "      <td>8452</td>\n",
       "      <td>John Chard</td>\n",
       "      <td>If you really believe that then you should clo...</td>\n",
       "      <td>6.5</td>\n",
       "      <td>The 6th Day</td>\n",
       "    </tr>\n",
       "    <tr>\n",
       "      <th>1</th>\n",
       "      <td>8452</td>\n",
       "      <td>Gimly</td>\n",
       "      <td>_The 6th Day_ is a **great** title for a movie...</td>\n",
       "      <td>6.0</td>\n",
       "      <td>The 6th Day</td>\n",
       "    </tr>\n",
       "    <tr>\n",
       "      <th>2</th>\n",
       "      <td>17578</td>\n",
       "      <td>ohlalipop</td>\n",
       "      <td>The animation was something else. It looked so...</td>\n",
       "      <td>10.0</td>\n",
       "      <td>The Adventures of Tintin</td>\n",
       "    </tr>\n",
       "    <tr>\n",
       "      <th>3</th>\n",
       "      <td>17578</td>\n",
       "      <td>lmao7</td>\n",
       "      <td>Wow…they just took cg/motion/performance captu...</td>\n",
       "      <td>9.0</td>\n",
       "      <td>The Adventures of Tintin</td>\n",
       "    </tr>\n",
       "    <tr>\n",
       "      <th>4</th>\n",
       "      <td>351460</td>\n",
       "      <td>.</td>\n",
       "      <td>_Death Note_ - _★★★★_\\r\\n\\r\\nWhile different f...</td>\n",
       "      <td>8.0</td>\n",
       "      <td>Death Note</td>\n",
       "    </tr>\n",
       "  </tbody>\n",
       "</table>\n",
       "</div>"
      ],
      "text/plain": [
       "   movie_id      author                                             review  \\\n",
       "0      8452  John Chard  If you really believe that then you should clo...   \n",
       "1      8452       Gimly  _The 6th Day_ is a **great** title for a movie...   \n",
       "2     17578   ohlalipop  The animation was something else. It looked so...   \n",
       "3     17578       lmao7  Wow…they just took cg/motion/performance captu...   \n",
       "4    351460           .  _Death Note_ - _★★★★_\\r\\n\\r\\nWhile different f...   \n",
       "\n",
       "   rating               movie_title  \n",
       "0     6.5               The 6th Day  \n",
       "1     6.0               The 6th Day  \n",
       "2    10.0  The Adventures of Tintin  \n",
       "3     9.0  The Adventures of Tintin  \n",
       "4     8.0                Death Note  "
      ]
     },
     "execution_count": 22,
     "metadata": {},
     "output_type": "execute_result"
    }
   ],
   "source": [
    "df1.head()"
   ]
  },
  {
   "cell_type": "code",
   "execution_count": 23,
   "id": "d25e816b-2a13-42ea-8ddb-c2e53cb256f1",
   "metadata": {},
   "outputs": [],
   "source": [
    "df1_1=df1.drop(['movie_id','author','movie_title'],axis=1)"
   ]
  },
  {
   "cell_type": "code",
   "execution_count": 24,
   "id": "8a228828-19af-47ba-961f-0c8dbd775b13",
   "metadata": {},
   "outputs": [
    {
     "data": {
      "text/html": [
       "<div>\n",
       "<style scoped>\n",
       "    .dataframe tbody tr th:only-of-type {\n",
       "        vertical-align: middle;\n",
       "    }\n",
       "\n",
       "    .dataframe tbody tr th {\n",
       "        vertical-align: top;\n",
       "    }\n",
       "\n",
       "    .dataframe thead th {\n",
       "        text-align: right;\n",
       "    }\n",
       "</style>\n",
       "<table border=\"1\" class=\"dataframe\">\n",
       "  <thead>\n",
       "    <tr style=\"text-align: right;\">\n",
       "      <th></th>\n",
       "      <th>movie_id</th>\n",
       "      <th>movie_title</th>\n",
       "      <th>author</th>\n",
       "      <th>review</th>\n",
       "      <th>rating</th>\n",
       "    </tr>\n",
       "  </thead>\n",
       "  <tbody>\n",
       "    <tr>\n",
       "      <th>0</th>\n",
       "      <td>950387</td>\n",
       "      <td>A Minecraft Movie</td>\n",
       "      <td>tmdb98094809</td>\n",
       "      <td>Alright, buckle up, because I just saw a movie...</td>\n",
       "      <td>10.0</td>\n",
       "    </tr>\n",
       "    <tr>\n",
       "      <th>1</th>\n",
       "      <td>950387</td>\n",
       "      <td>A Minecraft Movie</td>\n",
       "      <td>CinemaSerf</td>\n",
       "      <td>Who doesn’t like a white woolly llama? Well th...</td>\n",
       "      <td>6.0</td>\n",
       "    </tr>\n",
       "    <tr>\n",
       "      <th>2</th>\n",
       "      <td>950387</td>\n",
       "      <td>A Minecraft Movie</td>\n",
       "      <td>CinemaSerf</td>\n",
       "      <td>Who doesn’t like a white woolly llama? Well th...</td>\n",
       "      <td>6.0</td>\n",
       "    </tr>\n",
       "    <tr>\n",
       "      <th>3</th>\n",
       "      <td>950387</td>\n",
       "      <td>A Minecraft Movie</td>\n",
       "      <td>Jm_15</td>\n",
       "      <td>Chickey Jockey is so fun to watch. I love it s...</td>\n",
       "      <td>NaN</td>\n",
       "    </tr>\n",
       "    <tr>\n",
       "      <th>4</th>\n",
       "      <td>574475</td>\n",
       "      <td>Final Destination Bloodlines</td>\n",
       "      <td>CinemaSerf</td>\n",
       "      <td>Imagine if your room-mate kept getting recurri...</td>\n",
       "      <td>7.0</td>\n",
       "    </tr>\n",
       "  </tbody>\n",
       "</table>\n",
       "</div>"
      ],
      "text/plain": [
       "   movie_id                   movie_title        author  \\\n",
       "0    950387             A Minecraft Movie  tmdb98094809   \n",
       "1    950387             A Minecraft Movie    CinemaSerf   \n",
       "2    950387             A Minecraft Movie    CinemaSerf   \n",
       "3    950387             A Minecraft Movie         Jm_15   \n",
       "4    574475  Final Destination Bloodlines    CinemaSerf   \n",
       "\n",
       "                                              review  rating  \n",
       "0  Alright, buckle up, because I just saw a movie...    10.0  \n",
       "1  Who doesn’t like a white woolly llama? Well th...     6.0  \n",
       "2  Who doesn’t like a white woolly llama? Well th...     6.0  \n",
       "3  Chickey Jockey is so fun to watch. I love it s...     NaN  \n",
       "4  Imagine if your room-mate kept getting recurri...     7.0  "
      ]
     },
     "execution_count": 24,
     "metadata": {},
     "output_type": "execute_result"
    }
   ],
   "source": [
    "df2.head(5)"
   ]
  },
  {
   "cell_type": "code",
   "execution_count": 30,
   "id": "b1c89589-1afc-4ee2-bac4-44ca5b55f341",
   "metadata": {},
   "outputs": [],
   "source": [
    "df2_2=df2.drop(['movie_id','movie_title','author'],axis=1)"
   ]
  },
  {
   "cell_type": "markdown",
   "id": "f4b06bff-dab3-4e8a-8ca2-d1afcc33fe9c",
   "metadata": {},
   "source": [
    "### Merge all scrap data"
   ]
  },
  {
   "cell_type": "code",
   "execution_count": 31,
   "id": "05f13cb3-3316-47ba-aad9-8cddac82776d",
   "metadata": {},
   "outputs": [],
   "source": [
    "df3=pd.concat([df1_1,df2_2])"
   ]
  },
  {
   "cell_type": "code",
   "execution_count": 33,
   "id": "93451e4a-c7fb-490a-a055-dc3eda3ffaad",
   "metadata": {},
   "outputs": [],
   "source": [
    "df4=df3.drop_duplicates()"
   ]
  },
  {
   "cell_type": "code",
   "execution_count": 34,
   "id": "be6807e5-f918-4c38-b987-99937593d639",
   "metadata": {},
   "outputs": [
    {
     "data": {
      "text/plain": [
       "(17234, 2)"
      ]
     },
     "execution_count": 34,
     "metadata": {},
     "output_type": "execute_result"
    }
   ],
   "source": [
    "df4.shape"
   ]
  },
  {
   "cell_type": "markdown",
   "id": "9ffe2316-2bcc-4d88-b4c5-9254e2214292",
   "metadata": {},
   "source": [
    "### Use HuggingFace transformer to find sentiment of reviews"
   ]
  },
  {
   "cell_type": "code",
   "execution_count": 45,
   "id": "de5e9686-422a-4311-8198-857f9156e1f5",
   "metadata": {},
   "outputs": [
    {
     "name": "stderr",
     "output_type": "stream",
     "text": [
      "Device set to use cpu\n",
      "Classifying sentiment: 100%|███████████████████████████████████████████████████| 17234/17234 [1:22:07<00:00,  3.50it/s]\n"
     ]
    }
   ],
   "source": [
    "sentiment_pipeline=pipeline(\"sentiment-analysis\", model=\"distilbert/distilbert-base-uncased-finetuned-sst-2-english\", device=-1, truncation=True)\n",
    "\n",
    "def chunk_text(text, chunk_size=500):\n",
    "    \"\"\"Splits text into chunks of size 500 characters so that no error occurs as huggingface transformer has limit of 512 only.\"\"\"\n",
    "    text = str(text)\n",
    "    return [text[i:i+chunk_size] for i in range(0, len(text), chunk_size)]\n",
    "\n",
    "def analyze_chunks(review):\n",
    "    try:\n",
    "        chunks=chunk_text(review)\n",
    "        sentiments=[]\n",
    "        for chunk in chunks:\n",
    "            label=sentiment_pipeline(chunk)[0]['label'].lower()\n",
    "            sentiments.append(label)\n",
    "        return Counter(sentiments).most_common(1)[0][0]\n",
    "    except Exception as e:\n",
    "        return \"error\"\n",
    "df4=df4.reset_index(drop=True)\n",
    "df6=df4.copy()\n",
    "df6['sentiment']=df4['review'].progress_apply(analyze_chunks)"
   ]
  },
  {
   "cell_type": "code",
   "execution_count": 46,
   "id": "a0b06833-bd18-49ce-a35e-ca320113b980",
   "metadata": {},
   "outputs": [
    {
     "data": {
      "text/plain": [
       "sentiment\n",
       "positive    11245\n",
       "negative     5989\n",
       "Name: count, dtype: int64"
      ]
     },
     "execution_count": 46,
     "metadata": {},
     "output_type": "execute_result"
    }
   ],
   "source": [
    "df6['sentiment'].value_counts()"
   ]
  },
  {
   "cell_type": "code",
   "execution_count": 48,
   "id": "a47243c4-c3ad-44b1-a96b-a408165a49b9",
   "metadata": {},
   "outputs": [],
   "source": [
    "df6.drop(\"rating\",axis=1,inplace=True)"
   ]
  },
  {
   "cell_type": "markdown",
   "id": "4d47228f-11fb-4a5b-9f76-355188775019",
   "metadata": {},
   "source": [
    "### Merge all data frame to a single one"
   ]
  },
  {
   "cell_type": "code",
   "execution_count": 59,
   "id": "8bbfe467-6152-4350-9c5b-e15d3240c50f",
   "metadata": {},
   "outputs": [],
   "source": [
    "df7=pd.concat([df,df6])"
   ]
  },
  {
   "cell_type": "code",
   "execution_count": 65,
   "id": "a612153c-32ea-4d2d-95fd-ee36ceaad6f8",
   "metadata": {},
   "outputs": [
    {
     "name": "stderr",
     "output_type": "stream",
     "text": [
      "C:\\Users\\kaila\\AppData\\Local\\Temp\\ipykernel_13912\\3413765964.py:1: SettingWithCopyWarning: \n",
      "A value is trying to be set on a copy of a slice from a DataFrame\n",
      "\n",
      "See the caveats in the documentation: https://pandas.pydata.org/pandas-docs/stable/user_guide/indexing.html#returning-a-view-versus-a-copy\n",
      "  df7.drop_duplicates(inplace=True)\n"
     ]
    }
   ],
   "source": [
    "df7.drop_duplicates(inplace=True)"
   ]
  },
  {
   "cell_type": "code",
   "execution_count": 66,
   "id": "0a2bccca-6b22-405c-9026-d5671fce55eb",
   "metadata": {},
   "outputs": [
    {
     "data": {
      "text/plain": [
       "(66797, 2)"
      ]
     },
     "execution_count": 66,
     "metadata": {},
     "output_type": "execute_result"
    }
   ],
   "source": [
    "df7.shape"
   ]
  },
  {
   "cell_type": "markdown",
   "id": "84ded53a-bb86-4c1c-a005-dd4b70dbd549",
   "metadata": {},
   "source": [
    "### convert data frame to a csv file"
   ]
  },
  {
   "cell_type": "code",
   "execution_count": 67,
   "id": "bebfc3c2-210d-4c98-aaa0-1983dcea7945",
   "metadata": {},
   "outputs": [],
   "source": [
    "df7.to_csv(\"D:/DBDA/Machine_Learning_Project_dataset/Final_movie_reviews_dataset.csv\",index=False)"
   ]
  },
  {
   "cell_type": "code",
   "execution_count": null,
   "id": "d060ed04-a532-446d-84b6-33fee8ad8c91",
   "metadata": {},
   "outputs": [],
   "source": []
  },
  {
   "cell_type": "code",
   "execution_count": null,
   "id": "6c74c35f-e5bc-4b00-9b48-8fc0164af0be",
   "metadata": {},
   "outputs": [],
   "source": []
  },
  {
   "cell_type": "code",
   "execution_count": null,
   "id": "c5060731-c206-49b5-aba1-10581d7a4363",
   "metadata": {},
   "outputs": [],
   "source": []
  }
 ],
 "metadata": {
  "kernelspec": {
   "display_name": "Python 3 (ipykernel)",
   "language": "python",
   "name": "python3"
  },
  "language_info": {
   "codemirror_mode": {
    "name": "ipython",
    "version": 3
   },
   "file_extension": ".py",
   "mimetype": "text/x-python",
   "name": "python",
   "nbconvert_exporter": "python",
   "pygments_lexer": "ipython3",
   "version": "3.13.2"
  }
 },
 "nbformat": 4,
 "nbformat_minor": 5
}
