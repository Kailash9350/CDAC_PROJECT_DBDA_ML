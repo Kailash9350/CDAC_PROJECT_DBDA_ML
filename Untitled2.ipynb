{
 "cells": [
  {
   "cell_type": "code",
   "execution_count": 3,
   "id": "087806cf-2a21-4d30-a033-981ac0020731",
   "metadata": {},
   "outputs": [],
   "source": [
    "import pandas as pd"
   ]
  },
  {
   "cell_type": "code",
   "execution_count": 4,
   "id": "850bac96-6e42-4b30-97b1-2a9a92667b1d",
   "metadata": {},
   "outputs": [],
   "source": [
    "df1=pd.read_csv('tmdb_reviews_dataset2.csv') \n",
    "df2=pd.read_csv('tmdb_clean_english_reviews.csv') \n",
    "df=pd.read_csv('IMDB Dataset.csv')"
   ]
  },
  {
   "cell_type": "code",
   "execution_count": 5,
   "id": "4d5b8fb9-7123-4724-bffb-656ccaa04b8e",
   "metadata": {},
   "outputs": [
    {
     "data": {
      "text/html": [
       "<div>\n",
       "<style scoped>\n",
       "    .dataframe tbody tr th:only-of-type {\n",
       "        vertical-align: middle;\n",
       "    }\n",
       "\n",
       "    .dataframe tbody tr th {\n",
       "        vertical-align: top;\n",
       "    }\n",
       "\n",
       "    .dataframe thead th {\n",
       "        text-align: right;\n",
       "    }\n",
       "</style>\n",
       "<table border=\"1\" class=\"dataframe\">\n",
       "  <thead>\n",
       "    <tr style=\"text-align: right;\">\n",
       "      <th></th>\n",
       "      <th>movie_id</th>\n",
       "      <th>author</th>\n",
       "      <th>review</th>\n",
       "      <th>rating</th>\n",
       "      <th>movie_title</th>\n",
       "    </tr>\n",
       "  </thead>\n",
       "  <tbody>\n",
       "    <tr>\n",
       "      <th>0</th>\n",
       "      <td>8452</td>\n",
       "      <td>John Chard</td>\n",
       "      <td>If you really believe that then you should clo...</td>\n",
       "      <td>6.5</td>\n",
       "      <td>The 6th Day</td>\n",
       "    </tr>\n",
       "    <tr>\n",
       "      <th>1</th>\n",
       "      <td>8452</td>\n",
       "      <td>Gimly</td>\n",
       "      <td>_The 6th Day_ is a **great** title for a movie...</td>\n",
       "      <td>6.0</td>\n",
       "      <td>The 6th Day</td>\n",
       "    </tr>\n",
       "    <tr>\n",
       "      <th>2</th>\n",
       "      <td>17578</td>\n",
       "      <td>ohlalipop</td>\n",
       "      <td>The animation was something else. It looked so...</td>\n",
       "      <td>10.0</td>\n",
       "      <td>The Adventures of Tintin</td>\n",
       "    </tr>\n",
       "    <tr>\n",
       "      <th>3</th>\n",
       "      <td>17578</td>\n",
       "      <td>lmao7</td>\n",
       "      <td>Wow…they just took cg/motion/performance captu...</td>\n",
       "      <td>9.0</td>\n",
       "      <td>The Adventures of Tintin</td>\n",
       "    </tr>\n",
       "    <tr>\n",
       "      <th>4</th>\n",
       "      <td>351460</td>\n",
       "      <td>.</td>\n",
       "      <td>_Death Note_ - _★★★★_\\r\\n\\r\\nWhile different f...</td>\n",
       "      <td>8.0</td>\n",
       "      <td>Death Note</td>\n",
       "    </tr>\n",
       "  </tbody>\n",
       "</table>\n",
       "</div>"
      ],
      "text/plain": [
       "   movie_id      author                                             review  \\\n",
       "0      8452  John Chard  If you really believe that then you should clo...   \n",
       "1      8452       Gimly  _The 6th Day_ is a **great** title for a movie...   \n",
       "2     17578   ohlalipop  The animation was something else. It looked so...   \n",
       "3     17578       lmao7  Wow…they just took cg/motion/performance captu...   \n",
       "4    351460           .  _Death Note_ - _★★★★_\\r\\n\\r\\nWhile different f...   \n",
       "\n",
       "   rating               movie_title  \n",
       "0     6.5               The 6th Day  \n",
       "1     6.0               The 6th Day  \n",
       "2    10.0  The Adventures of Tintin  \n",
       "3     9.0  The Adventures of Tintin  \n",
       "4     8.0                Death Note  "
      ]
     },
     "execution_count": 5,
     "metadata": {},
     "output_type": "execute_result"
    }
   ],
   "source": [
    "df1.head()"
   ]
  },
  {
   "cell_type": "code",
   "execution_count": 7,
   "id": "311e67ce-1ade-475c-887c-088aaaa25328",
   "metadata": {},
   "outputs": [],
   "source": [
    "df1=df1.drop(['movie_id','author','movie_title'],axis=1)"
   ]
  },
  {
   "cell_type": "code",
   "execution_count": 8,
   "id": "01f97b7f-dfb4-4adf-ac5f-95f980239743",
   "metadata": {},
   "outputs": [
    {
     "data": {
      "text/html": [
       "<div>\n",
       "<style scoped>\n",
       "    .dataframe tbody tr th:only-of-type {\n",
       "        vertical-align: middle;\n",
       "    }\n",
       "\n",
       "    .dataframe tbody tr th {\n",
       "        vertical-align: top;\n",
       "    }\n",
       "\n",
       "    .dataframe thead th {\n",
       "        text-align: right;\n",
       "    }\n",
       "</style>\n",
       "<table border=\"1\" class=\"dataframe\">\n",
       "  <thead>\n",
       "    <tr style=\"text-align: right;\">\n",
       "      <th></th>\n",
       "      <th>movie_id</th>\n",
       "      <th>movie_title</th>\n",
       "      <th>author</th>\n",
       "      <th>review</th>\n",
       "      <th>rating</th>\n",
       "    </tr>\n",
       "  </thead>\n",
       "  <tbody>\n",
       "    <tr>\n",
       "      <th>0</th>\n",
       "      <td>950387</td>\n",
       "      <td>A Minecraft Movie</td>\n",
       "      <td>tmdb98094809</td>\n",
       "      <td>Alright, buckle up, because I just saw a movie...</td>\n",
       "      <td>10.0</td>\n",
       "    </tr>\n",
       "    <tr>\n",
       "      <th>1</th>\n",
       "      <td>950387</td>\n",
       "      <td>A Minecraft Movie</td>\n",
       "      <td>CinemaSerf</td>\n",
       "      <td>Who doesn’t like a white woolly llama? Well th...</td>\n",
       "      <td>6.0</td>\n",
       "    </tr>\n",
       "    <tr>\n",
       "      <th>2</th>\n",
       "      <td>950387</td>\n",
       "      <td>A Minecraft Movie</td>\n",
       "      <td>CinemaSerf</td>\n",
       "      <td>Who doesn’t like a white woolly llama? Well th...</td>\n",
       "      <td>6.0</td>\n",
       "    </tr>\n",
       "    <tr>\n",
       "      <th>3</th>\n",
       "      <td>950387</td>\n",
       "      <td>A Minecraft Movie</td>\n",
       "      <td>Jm_15</td>\n",
       "      <td>Chickey Jockey is so fun to watch. I love it s...</td>\n",
       "      <td>NaN</td>\n",
       "    </tr>\n",
       "    <tr>\n",
       "      <th>4</th>\n",
       "      <td>574475</td>\n",
       "      <td>Final Destination Bloodlines</td>\n",
       "      <td>CinemaSerf</td>\n",
       "      <td>Imagine if your room-mate kept getting recurri...</td>\n",
       "      <td>7.0</td>\n",
       "    </tr>\n",
       "  </tbody>\n",
       "</table>\n",
       "</div>"
      ],
      "text/plain": [
       "   movie_id                   movie_title        author  \\\n",
       "0    950387             A Minecraft Movie  tmdb98094809   \n",
       "1    950387             A Minecraft Movie    CinemaSerf   \n",
       "2    950387             A Minecraft Movie    CinemaSerf   \n",
       "3    950387             A Minecraft Movie         Jm_15   \n",
       "4    574475  Final Destination Bloodlines    CinemaSerf   \n",
       "\n",
       "                                              review  rating  \n",
       "0  Alright, buckle up, because I just saw a movie...    10.0  \n",
       "1  Who doesn’t like a white woolly llama? Well th...     6.0  \n",
       "2  Who doesn’t like a white woolly llama? Well th...     6.0  \n",
       "3  Chickey Jockey is so fun to watch. I love it s...     NaN  \n",
       "4  Imagine if your room-mate kept getting recurri...     7.0  "
      ]
     },
     "execution_count": 8,
     "metadata": {},
     "output_type": "execute_result"
    }
   ],
   "source": [
    "df2.head(5)"
   ]
  },
  {
   "cell_type": "code",
   "execution_count": 9,
   "id": "b923e137-4a77-4dae-9d3c-f0fa8962f934",
   "metadata": {},
   "outputs": [],
   "source": [
    "df2=df2.drop(['movie_id','movie_title','author'],axis=1)"
   ]
  },
  {
   "cell_type": "code",
   "execution_count": null,
   "id": "68014825-c329-424b-8ca4-5132cee7fb41",
   "metadata": {},
   "outputs": [],
   "source": []
  },
  {
   "cell_type": "code",
   "execution_count": 10,
   "id": "b92904c8-3ec0-4506-b325-17f5c9fce8d1",
   "metadata": {},
   "outputs": [],
   "source": [
    "df3=pd.concat([df1,df2])"
   ]
  },
  {
   "cell_type": "code",
   "execution_count": 11,
   "id": "5d91f84a-c76d-4068-bce5-b0ad23618a6f",
   "metadata": {},
   "outputs": [],
   "source": [
    "df3=df3.drop_duplicates()"
   ]
  },
  {
   "cell_type": "code",
   "execution_count": 12,
   "id": "22b59615-fc55-4843-a1c6-94522dbd501f",
   "metadata": {},
   "outputs": [
    {
     "data": {
      "text/plain": [
       "(17234, 2)"
      ]
     },
     "execution_count": 12,
     "metadata": {},
     "output_type": "execute_result"
    }
   ],
   "source": [
    "df3.shape"
   ]
  },
  {
   "cell_type": "code",
   "execution_count": 14,
   "id": "574eadf9-25ff-4683-a630-cbeec7b6636b",
   "metadata": {},
   "outputs": [],
   "source": [
    "df3.to_csv(\"combined_scrap_data.csv\")"
   ]
  },
  {
   "cell_type": "code",
   "execution_count": null,
   "id": "c5f6b51f-5395-4f7b-8a23-c181d05dde73",
   "metadata": {},
   "outputs": [],
   "source": []
  },
  {
   "cell_type": "code",
   "execution_count": null,
   "id": "ce1a3923-2231-474f-89e3-d1f849a90710",
   "metadata": {},
   "outputs": [],
   "source": []
  },
  {
   "cell_type": "code",
   "execution_count": null,
   "id": "7ecaf15f-2670-4a01-81cc-7103332e825d",
   "metadata": {},
   "outputs": [],
   "source": []
  },
  {
   "cell_type": "code",
   "execution_count": null,
   "id": "54ff0f70-1163-417c-907b-6de1aa0695b8",
   "metadata": {},
   "outputs": [],
   "source": []
  },
  {
   "cell_type": "code",
   "execution_count": null,
   "id": "3a5166b7-5971-4dd6-bf8f-99da96633d5a",
   "metadata": {},
   "outputs": [],
   "source": []
  },
  {
   "cell_type": "code",
   "execution_count": null,
   "id": "3bb322c0-2977-4180-a357-1e3bb5a33248",
   "metadata": {},
   "outputs": [],
   "source": []
  },
  {
   "cell_type": "code",
   "execution_count": null,
   "id": "40390a15-dbb2-4116-8dcb-9c977791ac39",
   "metadata": {},
   "outputs": [],
   "source": []
  },
  {
   "cell_type": "code",
   "execution_count": null,
   "id": "12d810b8-c639-4fc8-9bb5-d58454f72c8e",
   "metadata": {},
   "outputs": [],
   "source": []
  },
  {
   "cell_type": "code",
   "execution_count": null,
   "id": "85662d23-7d23-4b5c-8574-8591be461c50",
   "metadata": {},
   "outputs": [],
   "source": []
  },
  {
   "cell_type": "code",
   "execution_count": null,
   "id": "8973d908-760e-4e9b-9787-ace77846c112",
   "metadata": {},
   "outputs": [],
   "source": []
  },
  {
   "cell_type": "code",
   "execution_count": null,
   "id": "77983783-cb71-4eff-bab5-e44c97e8f203",
   "metadata": {},
   "outputs": [],
   "source": []
  },
  {
   "cell_type": "code",
   "execution_count": null,
   "id": "4958af25-16ff-4a2c-becc-cc214d7f860a",
   "metadata": {},
   "outputs": [],
   "source": []
  },
  {
   "cell_type": "code",
   "execution_count": null,
   "id": "6a651f5f-25b1-49d8-bcbc-eb389d0afc32",
   "metadata": {},
   "outputs": [],
   "source": []
  },
  {
   "cell_type": "code",
   "execution_count": null,
   "id": "ab6917ea-43dd-4f62-886c-de4b27f50c5a",
   "metadata": {},
   "outputs": [],
   "source": []
  },
  {
   "cell_type": "code",
   "execution_count": null,
   "id": "7f7c5e3c-cd43-4658-8250-48f74dc6ecb9",
   "metadata": {},
   "outputs": [],
   "source": []
  },
  {
   "cell_type": "code",
   "execution_count": null,
   "id": "2c6c5852-79f5-49c0-93a3-fec365b38397",
   "metadata": {},
   "outputs": [],
   "source": []
  },
  {
   "cell_type": "code",
   "execution_count": null,
   "id": "92005a3d-45ac-4223-9f41-614e466f27c4",
   "metadata": {},
   "outputs": [],
   "source": []
  },
  {
   "cell_type": "code",
   "execution_count": null,
   "id": "5a463a10-27ce-4cd4-90fc-3ae8ee2aff5c",
   "metadata": {},
   "outputs": [],
   "source": []
  },
  {
   "cell_type": "code",
   "execution_count": null,
   "id": "81baea68-cfc8-4d6c-88f4-f1daf0215fdd",
   "metadata": {},
   "outputs": [],
   "source": []
  },
  {
   "cell_type": "code",
   "execution_count": null,
   "id": "ea6e076d-4f21-4e84-9620-432b1988f266",
   "metadata": {},
   "outputs": [],
   "source": []
  },
  {
   "cell_type": "code",
   "execution_count": null,
   "id": "886f35c4-677a-447c-bf30-df24b8b56e97",
   "metadata": {},
   "outputs": [],
   "source": []
  },
  {
   "cell_type": "code",
   "execution_count": null,
   "id": "62489784-9273-48e5-8739-e6cb938fb2db",
   "metadata": {},
   "outputs": [],
   "source": []
  },
  {
   "cell_type": "code",
   "execution_count": null,
   "id": "a1abae9c-e60b-4a70-8827-68c9dcfff35f",
   "metadata": {},
   "outputs": [],
   "source": []
  },
  {
   "cell_type": "code",
   "execution_count": null,
   "id": "82486675-e913-4f83-a4a5-f2c392def834",
   "metadata": {},
   "outputs": [],
   "source": []
  },
  {
   "cell_type": "code",
   "execution_count": null,
   "id": "57d5d502-0e5a-47f5-928d-f1229c8b1d37",
   "metadata": {},
   "outputs": [],
   "source": []
  },
  {
   "cell_type": "code",
   "execution_count": null,
   "id": "b2f48ab6-8123-4f85-b272-eb31a26bc892",
   "metadata": {},
   "outputs": [],
   "source": []
  },
  {
   "cell_type": "code",
   "execution_count": null,
   "id": "e04f1f1b-2f06-49d5-b8af-b7c6b7845ca6",
   "metadata": {},
   "outputs": [],
   "source": []
  },
  {
   "cell_type": "code",
   "execution_count": null,
   "id": "be568d84-60b3-489f-9fb0-2c1ed421c716",
   "metadata": {},
   "outputs": [],
   "source": []
  },
  {
   "cell_type": "code",
   "execution_count": null,
   "id": "c7d16eeb-b0e0-4bf4-b837-bf312b2be363",
   "metadata": {},
   "outputs": [],
   "source": []
  },
  {
   "cell_type": "code",
   "execution_count": null,
   "id": "86bd2894-9f77-4398-83d2-34c394b9be3e",
   "metadata": {},
   "outputs": [],
   "source": []
  },
  {
   "cell_type": "code",
   "execution_count": null,
   "id": "3ba9d01d-c9f8-463a-8a41-b307ddef8c0d",
   "metadata": {},
   "outputs": [],
   "source": []
  },
  {
   "cell_type": "code",
   "execution_count": null,
   "id": "ce5030d6-1282-440f-97ea-487b688c9163",
   "metadata": {},
   "outputs": [],
   "source": []
  },
  {
   "cell_type": "code",
   "execution_count": null,
   "id": "8beddd1e-d77b-4ea7-95f4-530e313db064",
   "metadata": {},
   "outputs": [],
   "source": []
  }
 ],
 "metadata": {
  "kernelspec": {
   "display_name": "Python 3 (ipykernel)",
   "language": "python",
   "name": "python3"
  },
  "language_info": {
   "codemirror_mode": {
    "name": "ipython",
    "version": 3
   },
   "file_extension": ".py",
   "mimetype": "text/x-python",
   "name": "python",
   "nbconvert_exporter": "python",
   "pygments_lexer": "ipython3",
   "version": "3.13.2"
  }
 },
 "nbformat": 4,
 "nbformat_minor": 5
}
